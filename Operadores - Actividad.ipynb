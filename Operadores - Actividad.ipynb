{
 "cells": [
  {
   "cell_type": "markdown",
   "metadata": {},
   "source": [
    "## Operadores - Actividad"
   ]
  },
  {
   "cell_type": "markdown",
   "metadata": {},
   "source": [
    "1) Pedir al usuario dos números y mostrar por pantalla la suma de ellos."
   ]
  },
  {
   "cell_type": "code",
   "execution_count": 5,
   "metadata": {},
   "outputs": [
    {
     "name": "stdout",
     "output_type": "stream",
     "text": [
      "10\n"
     ]
    }
   ],
   "source": [
    "num_1 = int(input(\"Ingresse un numero\"))\n",
    "num_2 = int(input(\"Ingrese otro numero\"))\n",
    "\n",
    "suma = num_1 + num_2 \n",
    "\n",
    "print(suma)\n"
   ]
  },
  {
   "cell_type": "markdown",
   "metadata": {},
   "source": [
    "2) Calcular el perímetro y área de un rectángulo dada su base y su altura (el usuario debe introducir por teclado los dos valores)."
   ]
  },
  {
   "cell_type": "code",
   "execution_count": 8,
   "metadata": {},
   "outputs": [
    {
     "name": "stdout",
     "output_type": "stream",
     "text": [
      "8\n"
     ]
    }
   ],
   "source": [
    "base = int(input(\"Ingrese la base del rectángulo\"))\n",
    "altura = int(input(\"Ingrese la altura del rectangulo\"))\n",
    "\n",
    "perimetro = 2 * (base + altura)\n",
    "\n",
    "print(perimetro)"
   ]
  },
  {
   "cell_type": "markdown",
   "metadata": {},
   "source": [
    "3) Calcular el resultado de elevar un número entero a otro número entero (por ejemplo, 5 elevado a 3 = 5^3 = 5*5*5)."
   ]
  },
  {
   "cell_type": "code",
   "execution_count": 17,
   "metadata": {},
   "outputs": [
    {
     "name": "stdout",
     "output_type": "stream",
     "text": [
      "125\n",
      "1000\n"
     ]
    }
   ],
   "source": [
    "#exponente_facil = 5 ** 3\n",
    "exponente = int(input(\"Ingrese un numero\")) ** int(input(\"Ingrese otro numero\"))\n",
    "\n",
    "#print(exponente_facil)\n",
    "print(exponente)"
   ]
  },
  {
   "cell_type": "markdown",
   "metadata": {},
   "source": [
    "4) Escribe un programa que convierta grados Celsius a grados Fahrenheit utilizando la fórmula: **F = (C * 9/5) + 32**"
   ]
  },
  {
   "cell_type": "code",
   "execution_count": 15,
   "metadata": {},
   "outputs": [
    {
     "name": "stdout",
     "output_type": "stream",
     "text": [
      "86.0\n"
     ]
    }
   ],
   "source": [
    "conversor = ((int(input(\"Ingrese los grados celsius\")) * 9/5) + 32)\n",
    "\n",
    "print(conversor)"
   ]
  },
  {
   "cell_type": "markdown",
   "metadata": {},
   "source": [
    "5) Pedir al usuario su edad y mostrar por pantalla si es mayor de edad o no. (Mayor de edad >= 18)"
   ]
  },
  {
   "cell_type": "code",
   "execution_count": 26,
   "metadata": {},
   "outputs": [
    {
     "name": "stdout",
     "output_type": "stream",
     "text": [
      "True\n"
     ]
    }
   ],
   "source": [
    "edad = int(input(\"Ingrese su edad\")) >= 18\n",
    "\n",
    "print(edad)"
   ]
  },
  {
   "cell_type": "markdown",
   "metadata": {},
   "source": [
    "6) Comprobar si el numero ingresado por el usuario es par o impar."
   ]
  },
  {
   "cell_type": "code",
   "execution_count": 91,
   "metadata": {},
   "outputs": [
    {
     "name": "stdout",
     "output_type": "stream",
     "text": [
      "El numero ingresado es par.\n"
     ]
    }
   ],
   "source": [
    "par_impar = int(input(\"Ingrese numero entero\"))\n",
    "\n",
    "if par_impar % 2 == 0:\n",
    "    print(\"El numero ingresado es par.\")\n",
    "else:\n",
    "    print(\"El numero ingresado es impar\")\n"
   ]
  },
  {
   "cell_type": "markdown",
   "metadata": {},
   "source": [
    "7) Pedir al usuario que ingrese su dirección email y luego mostrar un mensaje indicando si la dirección es válida o no. Una dirección se considerará válida si contiene el símbolo \"@\"."
   ]
  },
  {
   "cell_type": "code",
   "execution_count": 39,
   "metadata": {},
   "outputs": [
    {
     "name": "stdout",
     "output_type": "stream",
     "text": [
      "email valido\n"
     ]
    }
   ],
   "source": [
    "datos = input(\"ingrese su email\")\n",
    "\n",
    "if \"@\" in datos:\n",
    "    print(\"email valido\")\n",
    "else:\n",
    "    print(\"email invalido\")\n",
    "\n"
   ]
  },
  {
   "cell_type": "markdown",
   "metadata": {},
   "source": [
    "8) Dado un número de dos cifras, diseñe un algoritmo que permita obtener el número invertido. Ejemplo, si se introduce 23 que muestre 32. (Recordar que las cadenas pueden tratarse como listas de caracteres)."
   ]
  },
  {
   "cell_type": "code",
   "execution_count": 100,
   "metadata": {},
   "outputs": [
    {
     "name": "stdout",
     "output_type": "stream",
     "text": [
      "El numero invertido es: 32\n"
     ]
    }
   ],
   "source": [
    "numero_cifras = input(\"Ingrese un numero de dos cifras\")\n",
    "\n",
    "if len(numero_cifras) == 2:\n",
    "    numero_invertido = numero_cifras[::-1]\n",
    "    print(\"El numero invertido es: \" + numero_invertido)\n",
    "else:\n",
    "    print(\"El numero ingresado no tiene dos cifras\")\n"
   ]
  },
  {
   "cell_type": "markdown",
   "metadata": {},
   "source": [
    "9) Crea un programa que pida al usuario dos números y muestre True si ambos son mayores que 10."
   ]
  },
  {
   "cell_type": "code",
   "execution_count": 67,
   "metadata": {},
   "outputs": [
    {
     "name": "stdout",
     "output_type": "stream",
     "text": [
      "Los numeros o alguno de ellos es menor a diez.\n"
     ]
    }
   ],
   "source": [
    "dato_1 = int(input(\"Ingrese el primer numero.\"))\n",
    "dato_2 = int(input(\"Ingrese el segundo numero.\"))\n",
    "\n",
    "if dato_1 and dato_2 > 10:\n",
    "    print(\"Ambos numeros son mayores a diez\")\n",
    "else:\n",
    "    print(\"Los numeros o alguno de ellos es menor a diez.\")"
   ]
  },
  {
   "cell_type": "markdown",
   "metadata": {},
   "source": [
    "10) Escribe un programa que verifique si un número ingresado por el usuario es divisible por 3 y por 5."
   ]
  },
  {
   "cell_type": "code",
   "execution_count": 73,
   "metadata": {},
   "outputs": [
    {
     "name": "stdout",
     "output_type": "stream",
     "text": [
      "Es divisible por 3 o por 5\n"
     ]
    }
   ],
   "source": [
    "division = int(input(\"Ingrese un numero\"))\n",
    "\n",
    "if division // 3 and 5:\n",
    "    print(\"Es divisible por 3 o por 5\")\n",
    "else:\n",
    "    print(\"No es divisible\")"
   ]
  },
  {
   "cell_type": "markdown",
   "metadata": {},
   "source": [
    "11) Utilizando la información del punto 5, preguntar al usuario si posee carnet de conducir, luego verificar si puede conducir un automóvil."
   ]
  },
  {
   "cell_type": "code",
   "execution_count": 80,
   "metadata": {},
   "outputs": [
    {
     "name": "stdout",
     "output_type": "stream",
     "text": [
      "No apto para conducir\n"
     ]
    }
   ],
   "source": [
    "# Informacion contenida en el punto 5\n",
    "# edad = int(input(\"Ingrese su edad\")) >= 18\n",
    "# print(edad)\n",
    "\n",
    "carnet_conducir = input('¿Tiene usted carnet de conducir? s/n (presione la letra segun corresponda)')\n",
    "\n",
    "if carnet_conducir == \"s\":\n",
    "    print(\"Es apto para conducir\")\n",
    "else:\n",
    "    print(\"No apto para conducir\")"
   ]
  },
  {
   "cell_type": "markdown",
   "metadata": {},
   "source": [
    "12) Pide al usuario un número y verifica si es positivo y no es mayor que 100."
   ]
  },
  {
   "cell_type": "code",
   "execution_count": 84,
   "metadata": {},
   "outputs": [
    {
     "name": "stdout",
     "output_type": "stream",
     "text": [
      "False\n"
     ]
    }
   ],
   "source": [
    "num_positivo = int(input(\"Ingrese un numero\"))\n",
    "\n",
    "if num_positivo >= 0 and num_positivo < 100:\n",
    "    print(True)\n",
    "else:\n",
    "    print(False) "
   ]
  },
  {
   "cell_type": "markdown",
   "metadata": {},
   "source": [
    "13) Crear un programa que valide si un número ingresado por el usuario es par y mayor que 20."
   ]
  },
  {
   "cell_type": "code",
   "execution_count": 99,
   "metadata": {},
   "outputs": [
    {
     "name": "stdout",
     "output_type": "stream",
     "text": [
      "Par y mayor a 20.\n"
     ]
    }
   ],
   "source": [
    "par_mayor_que = int(input(\"Ingrese un numero\"))\n",
    "\n",
    "if par_mayor_que % 2 == 0 and par_mayor_que > 20:\n",
    "    print(\"Par y mayor a 20.\")\n",
    "else:\n",
    "    print(\"Numero impar, menor a 20 o ambos.\")"
   ]
  },
  {
   "cell_type": "markdown",
   "metadata": {},
   "source": [
    "14) Dada la variable **numero = 5**, realizar la operación necesaria para que número sea igual a 8. Luego imprimir en pantalla el nuevo valor de número y realizar una nueva operación para que el valor de número sea igual a 4 y mostrar en pantalla el nuevo valor."
   ]
  },
  {
   "cell_type": "code",
   "execution_count": 106,
   "metadata": {},
   "outputs": [
    {
     "name": "stdout",
     "output_type": "stream",
     "text": [
      "5\n",
      "8\n",
      "4\n",
      "------------------------------\n",
      "5\n",
      "8\n",
      "4\n"
     ]
    }
   ],
   "source": [
    "numero = 5\n",
    "print(numero)\n",
    "\n",
    "print(numero + 3)\n",
    "\n",
    "print(numero - 1)\n",
    "\n",
    "#--------------------------------------\n",
    "# Segunda forma\n",
    "print(\"------------------------------\")\n",
    "\n",
    "numero_2 = 5 \n",
    "print(numero_2)\n",
    "\n",
    "ahora_8 = numero_2 + 3\n",
    "print(ahora_8)\n",
    "\n",
    "ahora_4 = ahora_8 -4\n",
    "print(ahora_4)\n",
    "\n"
   ]
  },
  {
   "cell_type": "markdown",
   "metadata": {},
   "source": [
    "15) Dadas las variables altura = \"10\" y base = 5, calcular el área de un triángulo y mostrar el resultado en pantalla. ¿Por qué el resultado es un error? ¿Cómo lo corregirías?"
   ]
  },
  {
   "cell_type": "code",
   "execution_count": 110,
   "metadata": {},
   "outputs": [
    {
     "name": "stdout",
     "output_type": "stream",
     "text": [
      "25\n",
      "25\n"
     ]
    }
   ],
   "source": [
    "# La variable altura se encuentra entre comillas lo que lo convierte en una cadena de caracteres o str. Podemos resolverlo de dos maneras:\n",
    "# 1- Escribrir el codigo inicial sin las comillas en el diez, evitando asi el error.\n",
    "# 2- Transformar el tipo de dato \"str\" a \"int\" con el comando int(). \n",
    "\n",
    "# Primera forma: \n",
    "\n",
    "area_triangulo = 5 * 10 // 2\n",
    "print(area_triangulo)\n",
    "\n",
    "# Segunda forma:\n",
    "\n",
    "base = 5\n",
    "altura = \"10\"\n",
    "\n",
    "altura_int = int(altura)\n",
    "\n",
    "area_triangulo_2 = base * altura_int // 2\n",
    "print(area_triangulo_2)\n",
    "\n",
    "# Concluyo optar por la primera opcion ya que resulta menos codigo y mas sencillo, permitiendo ahorrar recursos a la hora de ejecutar el codigo."
   ]
  },
  {
   "cell_type": "markdown",
   "metadata": {},
   "source": [
    "16) Crea un programa que calcule el promedio de tres calificaciones ingresadas por el usuario, y comprobar si el alumno aprobó o no (aprueba con nota mayor a 6)."
   ]
  },
  {
   "cell_type": "code",
   "execution_count": 127,
   "metadata": {},
   "outputs": [
    {
     "name": "stdout",
     "output_type": "stream",
     "text": [
      "9.0\n",
      "Aprobado\n"
     ]
    }
   ],
   "source": [
    "cal_1 = int(input(\"Ingrese la primera calificacion.\"))\n",
    "cal_2 = int(input(\"Ingrese la segunda calificacion.\"))\n",
    "cal_3 = int(input(\"Ingrese la tercera calificacion.\"))\n",
    "\n",
    "promedio = (cal_1 + cal_2 + cal_3) / 3\n",
    "print(promedio)\n",
    "\n",
    "if promedio > 6:\n",
    "   print(\"Aprobado\")\n",
    "else:\n",
    "   print(\"Desaprobado\")\n"
   ]
  },
  {
   "cell_type": "markdown",
   "metadata": {},
   "source": [
    "17) Pide al usuario su edad y calcula cuántos días, horas y minutos ha vivido aproximadamente (asumiendo 365 días por año)."
   ]
  },
  {
   "cell_type": "code",
   "execution_count": 135,
   "metadata": {},
   "outputs": [
    {
     "name": "stdout",
     "output_type": "stream",
     "text": [
      "Has vivido aproximadamente 10220 dias, 245280 horas, 14716800 minutos.\n"
     ]
    }
   ],
   "source": [
    "calcular_edad = int(input(\"Ingrese su edad\"))\n",
    "\n",
    "dias = calcular_edad * 365\n",
    "horas = dias * 24\n",
    "minutos = horas * 60\n",
    "\n",
    "print(f\"Has vivido aproximadamente {dias} dias, {horas} horas, {minutos} minutos.\")"
   ]
  },
  {
   "cell_type": "markdown",
   "metadata": {},
   "source": [
    "18) Crea un programa que verifique si un número ingresado por el usuario es múltiplo de 4 y de 6 al mismo tiempo."
   ]
  },
  {
   "cell_type": "code",
   "execution_count": 143,
   "metadata": {},
   "outputs": [
    {
     "name": "stdout",
     "output_type": "stream",
     "text": [
      "El numero 12 ingresado es multiplo de 4 y 6 al mismo tiempo.\n"
     ]
    }
   ],
   "source": [
    "multiplo = int(input(\"Ingrese un numero.\"))\n",
    "\n",
    "if multiplo % 4 == 0 and multiplo % 6 == 0:\n",
    "    print(f\"El numero {multiplo} ingresado es multiplo de 4 y 6 al mismo tiempo.\")\n",
    "else:\n",
    "    print(\"El numero ingresado no es multiplo.\")"
   ]
  }
 ],
 "metadata": {
  "kernelspec": {
   "display_name": "Python 3",
   "language": "python",
   "name": "python3"
  },
  "language_info": {
   "codemirror_mode": {
    "name": "ipython",
    "version": 3
   },
   "file_extension": ".py",
   "mimetype": "text/x-python",
   "name": "python",
   "nbconvert_exporter": "python",
   "pygments_lexer": "ipython3",
   "version": "3.12.2"
  }
 },
 "nbformat": 4,
 "nbformat_minor": 2
}
